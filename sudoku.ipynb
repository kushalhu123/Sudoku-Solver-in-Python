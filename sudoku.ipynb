{
 "cells": [
  {
   "cell_type": "code",
   "execution_count": 4,
   "metadata": {},
   "outputs": [
    {
     "name": "stdout",
     "output_type": "stream",
     "text": [
      "[[3 1 6 5 7 8 4 9 2]\n",
      " [5 2 9 1 3 4 7 6 8]\n",
      " [4 8 7 6 2 9 5 3 1]\n",
      " [2 6 3 4 1 5 9 8 7]\n",
      " [9 7 4 8 6 3 1 2 5]\n",
      " [8 5 1 7 9 2 6 4 3]\n",
      " [1 3 8 9 4 7 2 5 6]\n",
      " [6 9 2 3 5 1 8 7 4]\n",
      " [7 4 5 2 8 6 3 1 9]]\n"
     ]
    }
   ],
   "source": [
    "import numpy as np\n",
    "grid = [ [3, 0, 6, 5, 0, 8, 4, 0, 0], \n",
    "         [5, 2, 0, 0, 0, 0, 0, 0, 0], \n",
    "         [0, 8, 7, 0, 0, 0, 0, 3, 1], \n",
    "         [0, 0, 3, 0, 1, 0, 0, 8, 0], \n",
    "         [9, 0, 0, 8, 6, 3, 0, 0, 5], \n",
    "         [0, 5, 0, 0, 9, 0, 6, 0, 0], \n",
    "         [1, 3, 0, 0, 0, 0, 2, 5, 0], \n",
    "         [0, 0, 0, 0, 0, 0, 0, 7, 4], \n",
    "         [0, 0, 5, 2, 0, 6, 3, 0, 0] ]\n",
    "def ispossible(row,col,n):\n",
    "    global grid\n",
    "    for i in range(0,9):\n",
    "        if grid[row][i]==n and col!=i:\n",
    "            return False\n",
    "    for i in range(0,9):\n",
    "        if grid[i][col]==n and row!=i:\n",
    "            return False\n",
    "    x_box=row//3\n",
    "    y_box=col//3\n",
    "    for i in range(x_box*3,x_box*3+3):\n",
    "        for j in range(y_box*3,y_box*3+3):\n",
    "            if grid[i][j]==n and (i!=row and j!=col):\n",
    "                return False\n",
    "    return True\n",
    "ispossible(3,4,5)\n",
    "def findtheposition():\n",
    "    global grid\n",
    "    for i in range(0,9):\n",
    "        for j in range(0,9):\n",
    "            if grid[i][j]==0:\n",
    "                for n in range(1,10):\n",
    "                    #ROW NUMBER # COLUMN NUMBER # THE VALUE WHICH YOU NEED TO INSERT\n",
    "                    if ispossible(i,j,n):\n",
    "                        grid[i][j]=n\n",
    "                        findtheposition()\n",
    "                        grid[i][j]=0\n",
    "                return\n",
    "    print(np.matrix(grid))\n",
    "findtheposition()"
   ]
  },
  {
   "cell_type": "code",
   "execution_count": null,
   "metadata": {},
   "outputs": [],
   "source": []
  }
 ],
 "metadata": {
  "kernelspec": {
   "display_name": "Python 3",
   "language": "python",
   "name": "python3"
  },
  "language_info": {
   "codemirror_mode": {
    "name": "ipython",
    "version": 3
   },
   "file_extension": ".py",
   "mimetype": "text/x-python",
   "name": "python",
   "nbconvert_exporter": "python",
   "pygments_lexer": "ipython3",
   "version": "3.7.4"
  }
 },
 "nbformat": 4,
 "nbformat_minor": 2
}
